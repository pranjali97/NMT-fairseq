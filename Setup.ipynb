{
 "cells": [
  {
   "cell_type": "code",
   "execution_count": 1,
   "metadata": {
    "colab": {
     "base_uri": "https://localhost:8080/"
    },
    "id": "duTxvhRXZdq6",
    "outputId": "306b181f-1735-4410-c200-29851d3522a1"
   },
   "outputs": [],
   "source": [
    "# !git clone https://github.com/pranjali97/NMT-fairseq.git\n",
    "# !unzip fr-en.zip"
   ]
  },
  {
   "cell_type": "code",
   "execution_count": 2,
   "metadata": {
    "colab": {
     "base_uri": "https://localhost:8080/"
    },
    "id": "U9aPYBnKcWFL",
    "outputId": "1fc7eeba-1fa9-4242-8bc8-303748cf00d1"
   },
   "outputs": [],
   "source": [
    "# !pip install fairseq"
   ]
  },
  {
   "cell_type": "code",
   "execution_count": 5,
   "metadata": {
    "colab": {
     "base_uri": "https://localhost:8080/"
    },
    "id": "CJ5q5PaaZ0ic",
    "outputId": "31cc4788-17f7-4f83-fe99-3c176bfd6736"
   },
   "outputs": [
    {
     "name": "stdout",
     "output_type": "stream",
     "text": [
      "pre-processing train data...\n",
      "Tokenizer Version 1.1\n",
      "Language: fr\n",
      "Number of threads: 8\n",
      "Tokenizer Version 1.1\n",
      "Language: en\n",
      "Number of threads: 8\n",
      "pre-processing dev data...\n",
      "Tokenizer Version 1.1\n",
      "Language: fr\n",
      "Number of threads: 8\n",
      "Tokenizer Version 1.1\n",
      "Language: en\n",
      "Number of threads: 8\n",
      "pre-processing test data...\n",
      "Tokenizer Version 1.1\n",
      "Language: fr\n",
      "Number of threads: 8\n",
      "Tokenizer Version 1.1\n",
      "Language: en\n",
      "Number of threads: 8\n",
      "Data Preparation completed\n",
      "Running fairseq-preprocess\n",
      "2023-04-26 19:13:51 | INFO | fairseq.tasks.text_to_speech | Please install tensorboardX: pip install tensorboardX\n",
      "2023-04-26 19:13:51 | INFO | fairseq_cli.preprocess | Namespace(no_progress_bar=False, log_interval=100, log_format=None, log_file=None, aim_repo=None, aim_run_hash=None, tensorboard_logdir=None, wandb_project=None, azureml_logging=False, seed=1, cpu=False, tpu=False, bf16=False, memory_efficient_bf16=False, fp16=False, memory_efficient_fp16=False, fp16_no_flatten_grads=False, fp16_init_scale=128, fp16_scale_window=None, fp16_scale_tolerance=0.0, on_cpu_convert_precision=False, min_loss_scale=0.0001, threshold_loss_scale=None, amp=False, amp_batch_retries=2, amp_init_scale=128, amp_scale_window=None, user_dir=None, empty_cache_freq=0, all_gather_list_size=16384, model_parallel_size=1, quantization_config_path=None, profile=False, reset_logging=False, suppress_crashes=False, use_plasma_view=False, plasma_path='/tmp/plasma', criterion='cross_entropy', tokenizer=None, bpe=None, optimizer=None, lr_scheduler='fixed', scoring='bleu', task='translation', source_lang='fr', target_lang='en', trainpref='fr-en/train', validpref='fr-en/valid', testpref='fr-en/test', align_suffix=None, destdir='fr-en/moses_preprocessed', thresholdtgt=0, thresholdsrc=0, tgtdict=None, srcdict=None, nwordstgt=-1, nwordssrc=-1, alignfile=None, dataset_impl='mmap', joined_dictionary=False, only_source=False, padding_factor=8, workers=60, dict_only=False)\n",
      "2023-04-26 19:13:58 | INFO | fairseq_cli.preprocess | [fr] Dictionary: 138096 types\n",
      "2023-04-26 19:14:14 | INFO | fairseq_cli.preprocess | [fr] fr-en/train.fr: 158398 sents, 2960191 tokens, 0.0% replaced (by <unk>)\n",
      "2023-04-26 19:14:14 | INFO | fairseq_cli.preprocess | [fr] Dictionary: 138096 types\n",
      "2023-04-26 19:14:19 | INFO | fairseq_cli.preprocess | [fr] fr-en/valid.fr: 887 sents, 21395 tokens, 8.24% replaced (by <unk>)\n",
      "2023-04-26 19:14:19 | INFO | fairseq_cli.preprocess | [fr] Dictionary: 138096 types\n",
      "2023-04-26 19:14:25 | INFO | fairseq_cli.preprocess | [fr] fr-en/test.fr: 1664 sents, 36029 tokens, 7.81% replaced (by <unk>)\n",
      "2023-04-26 19:14:25 | INFO | fairseq_cli.preprocess | [en] Dictionary: 109600 types\n",
      "2023-04-26 19:14:38 | INFO | fairseq_cli.preprocess | [en] fr-en/train.en: 158641 sents, 2878484 tokens, 0.0% replaced (by <unk>)\n",
      "2023-04-26 19:14:38 | INFO | fairseq_cli.preprocess | [en] Dictionary: 109600 types\n",
      "2023-04-26 19:14:42 | INFO | fairseq_cli.preprocess | [en] fr-en/valid.en: 887 sents, 21149 tokens, 4.83% replaced (by <unk>)\n",
      "2023-04-26 19:14:42 | INFO | fairseq_cli.preprocess | [en] Dictionary: 109600 types\n",
      "2023-04-26 19:14:47 | INFO | fairseq_cli.preprocess | [en] fr-en/test.en: 1664 sents, 33835 tokens, 4.85% replaced (by <unk>)\n",
      "2023-04-26 19:14:47 | INFO | fairseq_cli.preprocess | Wrote preprocessed data to fr-en/moses_preprocessed\n",
      "fairseq-preprocess completed\n"
     ]
    }
   ],
   "source": [
    "!bash part-2_prepare_data.sh"
   ]
  },
  {
   "cell_type": "code",
   "execution_count": 4,
   "metadata": {
    "colab": {
     "base_uri": "https://localhost:8080/"
    },
    "id": "VgXf-MfBwSL_",
    "outputId": "5638c616-601c-46a3-fb55-3cefe65186cb"
   },
   "outputs": [
    {
     "name": "stdout",
     "output_type": "stream",
     "text": [
      "Looking in indexes: https://pypi.org/simple, https://us-python.pkg.dev/colab-wheels/public/simple/\n",
      "Collecting sacremoses\n",
      "  Downloading sacremoses-0.0.53.tar.gz (880 kB)\n",
      "\u001b[2K     \u001b[90m━━━━━━━━━━━━━━━━━━━━━━━━━━━━━━━━━━━━━━\u001b[0m \u001b[32m880.6/880.6 kB\u001b[0m \u001b[31m29.7 MB/s\u001b[0m eta \u001b[36m0:00:00\u001b[0m\n",
      "\u001b[?25h  Preparing metadata (setup.py) ... \u001b[?25l\u001b[?25hdone\n",
      "Requirement already satisfied: regex in /usr/local/lib/python3.9/dist-packages (from sacremoses) (2022.10.31)\n",
      "Requirement already satisfied: six in /usr/local/lib/python3.9/dist-packages (from sacremoses) (1.16.0)\n",
      "Requirement already satisfied: click in /usr/local/lib/python3.9/dist-packages (from sacremoses) (8.1.3)\n",
      "Requirement already satisfied: joblib in /usr/local/lib/python3.9/dist-packages (from sacremoses) (1.2.0)\n",
      "Requirement already satisfied: tqdm in /usr/local/lib/python3.9/dist-packages (from sacremoses) (4.65.0)\n",
      "Building wheels for collected packages: sacremoses\n",
      "  Building wheel for sacremoses (setup.py) ... \u001b[?25l\u001b[?25hdone\n",
      "  Created wheel for sacremoses: filename=sacremoses-0.0.53-py3-none-any.whl size=895259 sha256=315ebb9db5bdec27ae7c5f4469de1d29a3a746aa8ec4c0ab0e59a36ea6d84e34\n",
      "  Stored in directory: /root/.cache/pip/wheels/12/1c/3d/46cf06718d63a32ff798a89594b61e7f345ab6b36d909ce033\n",
      "Successfully built sacremoses\n",
      "Installing collected packages: sacremoses\n",
      "Successfully installed sacremoses-0.0.53\n"
     ]
    }
   ],
   "source": [
    "# !pip install sacremoses"
   ]
  },
  {
   "cell_type": "code",
   "execution_count": null,
   "metadata": {
    "id": "C6e1GLL2aW6o"
   },
   "outputs": [],
   "source": [
    "# !bash NMT-fairseq/part-1_transformer.sh\n",
    "# !pip install torch==1.12.1+cu113 torchvision==0.13.1+cu113 torchaudio==0.12.1 --extra-index-url https://download.pytorch.org/whl/cu113\n",
    "# !pip install fairseq==0.12.2"
   ]
  },
  {
   "cell_type": "code",
   "execution_count": null,
   "metadata": {
    "id": "nFu7TinciJiA"
   },
   "outputs": [],
   "source": [
    "!fairseq-generate \\\n",
    "    fr-en/preprocessed \\\n",
    "    --path checkpoints/transfomer/checkpoint_best.pt \\\n",
    "    --scoring sacrebleu \\\n",
    "    --beam 5 --remove-bpe"
   ]
  }
 ],
 "metadata": {
  "accelerator": "GPU",
  "colab": {
   "provenance": []
  },
  "gpuClass": "standard",
  "kernelspec": {
   "display_name": "Python 3 (ipykernel)",
   "language": "python",
   "name": "python3"
  },
  "language_info": {
   "codemirror_mode": {
    "name": "ipython",
    "version": 3
   },
   "file_extension": ".py",
   "mimetype": "text/x-python",
   "name": "python",
   "nbconvert_exporter": "python",
   "pygments_lexer": "ipython3",
   "version": "3.10.6"
  }
 },
 "nbformat": 4,
 "nbformat_minor": 4
}
