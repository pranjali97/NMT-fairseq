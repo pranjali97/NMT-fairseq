{
  "nbformat": 4,
  "nbformat_minor": 0,
  "metadata": {
    "colab": {
      "provenance": []
    },
    "kernelspec": {
      "name": "python3",
      "display_name": "Python 3"
    },
    "language_info": {
      "name": "python"
    },
    "accelerator": "GPU",
    "gpuClass": "standard"
  },
  "cells": [
    {
      "cell_type": "code",
      "execution_count": 1,
      "metadata": {
        "colab": {
          "base_uri": "https://localhost:8080/"
        },
        "id": "duTxvhRXZdq6",
        "outputId": "306b181f-1735-4410-c200-29851d3522a1"
      },
      "outputs": [
        {
          "output_type": "stream",
          "name": "stdout",
          "text": [
            "Cloning into 'NMT-fairseq'...\n",
            "remote: Enumerating objects: 24, done.\u001b[K\n",
            "remote: Counting objects: 100% (24/24), done.\u001b[K\n",
            "remote: Compressing objects: 100% (21/21), done.\u001b[K\n",
            "remote: Total 24 (delta 10), reused 4 (delta 1), pack-reused 0\u001b[K\n",
            "Unpacking objects: 100% (24/24), 11.25 KiB | 1.88 MiB/s, done.\n",
            "Archive:  fr-en.zip\n",
            "   creating: fr-en/\n",
            "  inflating: __MACOSX/._fr-en        \n",
            "  inflating: fr-en/train.tags.fr-en.tok.fr  \n",
            "  inflating: fr-en/dev.en            \n",
            "  inflating: fr-en/IWSLT13.TED.dev2010.fr-en.en.xml  \n",
            "  inflating: __MACOSX/fr-en/._IWSLT13.TED.dev2010.fr-en.en.xml  \n",
            "  inflating: fr-en/train.tags.fr-en.tok.en  \n",
            "  inflating: fr-en/dev.fr            \n",
            "  inflating: fr-en/.DS_Store         \n",
            "  inflating: __MACOSX/fr-en/._.DS_Store  \n",
            "  inflating: fr-en/IWSLT13.TED.dev2010.fr-en.fr.xml  \n",
            "  inflating: __MACOSX/fr-en/._IWSLT13.TED.dev2010.fr-en.fr.xml  \n",
            "   creating: fr-en/preprocessed/\n",
            "  inflating: fr-en/code              \n",
            "  inflating: fr-en/train.fr          \n",
            "  inflating: __MACOSX/fr-en/._train.fr  \n",
            "  inflating: fr-en/README            \n",
            "  inflating: __MACOSX/fr-en/._README  \n",
            "  inflating: fr-en/train.en          \n",
            "  inflating: __MACOSX/fr-en/._train.en  \n",
            "  inflating: fr-en/train.fr-en       \n",
            "  inflating: fr-en/test.fr           \n",
            "  inflating: fr-en/test.en           \n",
            "   creating: fr-en/.ipynb_checkpoints/\n",
            "   creating: fr-en/tokenized_fr-en/\n",
            "  inflating: fr-en/IWSLT13.TED.tst2010.fr-en.en.xml  \n",
            "  inflating: __MACOSX/fr-en/._IWSLT13.TED.tst2010.fr-en.en.xml  \n",
            "  inflating: fr-en/IWSLT13.TED.tst2010.fr-en.fr.xml  \n",
            "  inflating: __MACOSX/fr-en/._IWSLT13.TED.tst2010.fr-en.fr.xml  \n",
            "  inflating: fr-en/train.tags.fr-en.fr  \n",
            "  inflating: __MACOSX/fr-en/._train.tags.fr-en.fr  \n",
            "  inflating: fr-en/train.tags.fr-en.en  \n",
            "  inflating: __MACOSX/fr-en/._train.tags.fr-en.en  \n",
            "  inflating: fr-en/preprocessed/valid.fr-en.fr.bin  \n",
            "  inflating: fr-en/preprocessed/valid.fr-en.en.idx  \n",
            "  inflating: fr-en/preprocessed/valid.fr-en.en.bin  \n",
            "  inflating: fr-en/preprocessed/valid.fr-en.fr.idx  \n",
            "  inflating: fr-en/preprocessed/test.fr-en.fr.bin  \n",
            "  inflating: fr-en/preprocessed/test.fr-en.en.idx  \n",
            "  inflating: fr-en/preprocessed/test.fr-en.en.bin  \n",
            "  inflating: fr-en/preprocessed/test.fr-en.fr.idx  \n",
            "  inflating: fr-en/preprocessed/dict.en.txt  \n",
            "  inflating: fr-en/preprocessed/train.fr-en.fr.bin  \n",
            "  inflating: fr-en/preprocessed/train.fr-en.en.idx  \n",
            "  inflating: fr-en/preprocessed/train.fr-en.en.bin  \n",
            "  inflating: fr-en/preprocessed/train.fr-en.fr.idx  \n",
            "  inflating: fr-en/preprocessed/dict.fr.txt  \n",
            "  inflating: fr-en/preprocessed/preprocess.log  \n",
            "  inflating: fr-en/tokenized_fr-en/bpe.train.fr  \n",
            "  inflating: fr-en/tokenized_fr-en/bpe.train.en  \n",
            "  inflating: fr-en/tokenized_fr-en/train.fr  \n",
            "  inflating: fr-en/tokenized_fr-en/train.en  \n",
            "  inflating: fr-en/tokenized_fr-en/bpe.dev.en  \n",
            "  inflating: fr-en/tokenized_fr-en/bpe.dev.fr  \n",
            "  inflating: fr-en/tokenized_fr-en/test.fr  \n",
            "  inflating: fr-en/tokenized_fr-en/test.en  \n",
            "   creating: fr-en/tokenized_fr-en/.ipynb_checkpoints/\n",
            "  inflating: fr-en/tokenized_fr-en/bpe.test.fr  \n",
            "  inflating: fr-en/tokenized_fr-en/valid.en  \n",
            "  inflating: fr-en/tokenized_fr-en/bpe.test.en  \n",
            "  inflating: fr-en/tokenized_fr-en/valid.fr  \n",
            "  inflating: fr-en/tokenized_fr-en/.ipynb_checkpoints/test-checkpoint.en  \n",
            "  inflating: fr-en/tokenized_fr-en/.ipynb_checkpoints/train-checkpoint.en  \n",
            "  inflating: fr-en/tokenized_fr-en/.ipynb_checkpoints/valid-checkpoint.en  \n"
          ]
        }
      ],
      "source": [
        "!git clone https://github.com/pranjali97/NMT-fairseq.git\n",
        "!unzip fr-en.zip"
      ]
    },
    {
      "cell_type": "code",
      "source": [
        "!pip install fairseq"
      ],
      "metadata": {
        "colab": {
          "base_uri": "https://localhost:8080/"
        },
        "id": "U9aPYBnKcWFL",
        "outputId": "1fc7eeba-1fa9-4242-8bc8-303748cf00d1"
      },
      "execution_count": 2,
      "outputs": [
        {
          "output_type": "stream",
          "name": "stdout",
          "text": [
            "Looking in indexes: https://pypi.org/simple, https://us-python.pkg.dev/colab-wheels/public/simple/\n",
            "Collecting fairseq\n",
            "  Downloading fairseq-0.12.2.tar.gz (9.6 MB)\n",
            "\u001b[2K     \u001b[90m━━━━━━━━━━━━━━━━━━━━━━━━━━━━━━━━━━━━━━━━\u001b[0m \u001b[32m9.6/9.6 MB\u001b[0m \u001b[31m70.2 MB/s\u001b[0m eta \u001b[36m0:00:00\u001b[0m\n",
            "\u001b[?25h  Installing build dependencies ... \u001b[?25l\u001b[?25hdone\n",
            "  Getting requirements to build wheel ... \u001b[?25l\u001b[?25hdone\n",
            "  Installing backend dependencies ... \u001b[?25l\u001b[?25hdone\n",
            "  Preparing metadata (pyproject.toml) ... \u001b[?25l\u001b[?25hdone\n",
            "Requirement already satisfied: regex in /usr/local/lib/python3.9/dist-packages (from fairseq) (2022.10.31)\n",
            "Requirement already satisfied: tqdm in /usr/local/lib/python3.9/dist-packages (from fairseq) (4.65.0)\n",
            "Requirement already satisfied: cffi in /usr/local/lib/python3.9/dist-packages (from fairseq) (1.15.1)\n",
            "Requirement already satisfied: numpy in /usr/local/lib/python3.9/dist-packages (from fairseq) (1.22.4)\n",
            "Requirement already satisfied: torch in /usr/local/lib/python3.9/dist-packages (from fairseq) (2.0.0+cu118)\n",
            "Collecting bitarray\n",
            "  Downloading bitarray-2.7.3-cp39-cp39-manylinux_2_17_x86_64.manylinux2014_x86_64.whl (269 kB)\n",
            "\u001b[2K     \u001b[90m━━━━━━━━━━━━━━━━━━━━━━━━━━━━━━━━━━━━━━\u001b[0m \u001b[32m269.6/269.6 kB\u001b[0m \u001b[31m29.8 MB/s\u001b[0m eta \u001b[36m0:00:00\u001b[0m\n",
            "\u001b[?25hRequirement already satisfied: cython in /usr/local/lib/python3.9/dist-packages (from fairseq) (0.29.34)\n",
            "Requirement already satisfied: torchaudio>=0.8.0 in /usr/local/lib/python3.9/dist-packages (from fairseq) (2.0.1+cu118)\n",
            "Collecting hydra-core<1.1,>=1.0.7\n",
            "  Downloading hydra_core-1.0.7-py3-none-any.whl (123 kB)\n",
            "\u001b[2K     \u001b[90m━━━━━━━━━━━━━━━━━━━━━━━━━━━━━━━━━━━━━━\u001b[0m \u001b[32m123.8/123.8 kB\u001b[0m \u001b[31m16.1 MB/s\u001b[0m eta \u001b[36m0:00:00\u001b[0m\n",
            "\u001b[?25hCollecting sacrebleu>=1.4.12\n",
            "  Downloading sacrebleu-2.3.1-py3-none-any.whl (118 kB)\n",
            "\u001b[2K     \u001b[90m━━━━━━━━━━━━━━━━━━━━━━━━━━━━━━━━━━━━━━\u001b[0m \u001b[32m118.9/118.9 kB\u001b[0m \u001b[31m16.3 MB/s\u001b[0m eta \u001b[36m0:00:00\u001b[0m\n",
            "\u001b[?25hCollecting omegaconf<2.1\n",
            "  Downloading omegaconf-2.0.6-py3-none-any.whl (36 kB)\n",
            "Collecting antlr4-python3-runtime==4.8\n",
            "  Downloading antlr4-python3-runtime-4.8.tar.gz (112 kB)\n",
            "\u001b[2K     \u001b[90m━━━━━━━━━━━━━━━━━━━━━━━━━━━━━━━━━━━━━━\u001b[0m \u001b[32m112.4/112.4 kB\u001b[0m \u001b[31m14.0 MB/s\u001b[0m eta \u001b[36m0:00:00\u001b[0m\n",
            "\u001b[?25h  Preparing metadata (setup.py) ... \u001b[?25l\u001b[?25hdone\n",
            "Requirement already satisfied: PyYAML>=5.1.* in /usr/local/lib/python3.9/dist-packages (from omegaconf<2.1->fairseq) (6.0)\n",
            "Requirement already satisfied: typing-extensions in /usr/local/lib/python3.9/dist-packages (from omegaconf<2.1->fairseq) (4.5.0)\n",
            "Collecting colorama\n",
            "  Downloading colorama-0.4.6-py2.py3-none-any.whl (25 kB)\n",
            "Requirement already satisfied: lxml in /usr/local/lib/python3.9/dist-packages (from sacrebleu>=1.4.12->fairseq) (4.9.2)\n",
            "Requirement already satisfied: tabulate>=0.8.9 in /usr/local/lib/python3.9/dist-packages (from sacrebleu>=1.4.12->fairseq) (0.8.10)\n",
            "Collecting portalocker\n",
            "  Downloading portalocker-2.7.0-py2.py3-none-any.whl (15 kB)\n",
            "Requirement already satisfied: sympy in /usr/local/lib/python3.9/dist-packages (from torch->fairseq) (1.11.1)\n",
            "Requirement already satisfied: networkx in /usr/local/lib/python3.9/dist-packages (from torch->fairseq) (3.1)\n",
            "Requirement already satisfied: triton==2.0.0 in /usr/local/lib/python3.9/dist-packages (from torch->fairseq) (2.0.0)\n",
            "Requirement already satisfied: jinja2 in /usr/local/lib/python3.9/dist-packages (from torch->fairseq) (3.1.2)\n",
            "Requirement already satisfied: filelock in /usr/local/lib/python3.9/dist-packages (from torch->fairseq) (3.11.0)\n",
            "Requirement already satisfied: lit in /usr/local/lib/python3.9/dist-packages (from triton==2.0.0->torch->fairseq) (16.0.1)\n",
            "Requirement already satisfied: cmake in /usr/local/lib/python3.9/dist-packages (from triton==2.0.0->torch->fairseq) (3.25.2)\n",
            "Requirement already satisfied: pycparser in /usr/local/lib/python3.9/dist-packages (from cffi->fairseq) (2.21)\n",
            "Requirement already satisfied: MarkupSafe>=2.0 in /usr/local/lib/python3.9/dist-packages (from jinja2->torch->fairseq) (2.1.2)\n",
            "Requirement already satisfied: mpmath>=0.19 in /usr/local/lib/python3.9/dist-packages (from sympy->torch->fairseq) (1.3.0)\n",
            "Building wheels for collected packages: fairseq, antlr4-python3-runtime\n",
            "  Building wheel for fairseq (pyproject.toml) ... \u001b[?25l\u001b[?25hdone\n",
            "  Created wheel for fairseq: filename=fairseq-0.12.2-cp39-cp39-linux_x86_64.whl size=11180077 sha256=c4d90672da54e25a8b0ac702d334e63301b428557f2b98434a9af352890a3542\n",
            "  Stored in directory: /root/.cache/pip/wheels/59/35/87/2baf2e4ad37c83fd698c486b3d39f0e7022226fa52ab469c31\n",
            "  Building wheel for antlr4-python3-runtime (setup.py) ... \u001b[?25l\u001b[?25hdone\n",
            "  Created wheel for antlr4-python3-runtime: filename=antlr4_python3_runtime-4.8-py3-none-any.whl size=141229 sha256=234de8bd8e0e061dc5725167f4846813e766480e7424791420c16aa3df0be9d3\n",
            "  Stored in directory: /root/.cache/pip/wheels/42/3c/ae/14db087e6018de74810afe32eb6ac890ef9c68ba19b00db97a\n",
            "Successfully built fairseq antlr4-python3-runtime\n",
            "Installing collected packages: bitarray, antlr4-python3-runtime, portalocker, omegaconf, colorama, sacrebleu, hydra-core, fairseq\n",
            "Successfully installed antlr4-python3-runtime-4.8 bitarray-2.7.3 colorama-0.4.6 fairseq-0.12.2 hydra-core-1.0.7 omegaconf-2.0.6 portalocker-2.7.0 sacrebleu-2.3.1\n"
          ]
        }
      ]
    },
    {
      "cell_type": "code",
      "source": [
        "!bash NMT-fairseq/prepare_data.sh"
      ],
      "metadata": {
        "colab": {
          "base_uri": "https://localhost:8080/"
        },
        "id": "CJ5q5PaaZ0ic",
        "outputId": "31cc4788-17f7-4f83-fe99-3c176bfd6736"
      },
      "execution_count": 3,
      "outputs": [
        {
          "output_type": "stream",
          "name": "stdout",
          "text": [
            "Cloning Moses github repository (for tokenization scripts)...\n",
            "Cloning into 'mosesdecoder'...\n",
            "remote: Enumerating objects: 148097, done.\u001b[K\n",
            "remote: Counting objects: 100% (525/525), done.\u001b[K\n",
            "remote: Compressing objects: 100% (229/229), done.\u001b[K\n",
            "remote: Total 148097 (delta 323), reused 441 (delta 292), pack-reused 147572\u001b[K\n",
            "Receiving objects: 100% (148097/148097), 129.88 MiB | 22.30 MiB/s, done.\n",
            "Resolving deltas: 100% (114349/114349), done.\n",
            "Cloning Subword NMT repository (for BPE pre-processing)...\n",
            "Cloning into 'subword-nmt'...\n",
            "remote: Enumerating objects: 597, done.\u001b[K\n",
            "remote: Counting objects: 100% (21/21), done.\u001b[K\n",
            "remote: Compressing objects: 100% (17/17), done.\u001b[K\n",
            "remote: Total 597 (delta 8), reused 12 (delta 4), pack-reused 576\u001b[K\n",
            "Receiving objects: 100% (597/597), 252.23 KiB | 9.34 MiB/s, done.\n",
            "Resolving deltas: 100% (357/357), done.\n",
            "pre-processing train data...\n",
            "Tokenizer Version 1.1\n",
            "Language: fr\n",
            "Number of threads: 8\n",
            "Tokenizer Version 1.1\n",
            "Language: en\n",
            "Number of threads: 8\n",
            "pre-processing dev data...\n",
            "Tokenizer Version 1.1\n",
            "Language: fr\n",
            "Number of threads: 8\n",
            "Tokenizer Version 1.1\n",
            "Language: en\n",
            "Number of threads: 8\n",
            "pre-processing test data...\n",
            "Tokenizer Version 1.1\n",
            "Language: fr\n",
            "Number of threads: 8\n",
            "Tokenizer Version 1.1\n",
            "Language: en\n",
            "Number of threads: 8\n",
            "fr-en/code\n",
            "learn_bpe.py on fr-en/train.fr-en...\n",
            "100% 10000/10000 [00:07<00:00, 1330.69it/s]\n",
            "apply_bpe.py to train.fr...\n",
            "apply_bpe.py to dev.fr...\n",
            "apply_bpe.py to test.fr...\n",
            "apply_bpe.py to train.en...\n",
            "apply_bpe.py to dev.en...\n",
            "apply_bpe.py to test.en...\n",
            "clean-corpus.perl: processing fr-en/tokenized_fr-en/bpe.train.fr & .en to fr-en/tokenized_fr-en/train, cutoff 1-250, ratio 1.5\n",
            ".....\n",
            "Input sentences: 50689  Output sentences:  50506\n",
            "clean-corpus.perl: processing fr-en/tokenized_fr-en/bpe.dev.fr & .en to fr-en/tokenized_fr-en/valid, cutoff 1-250, ratio 1.5\n",
            "\n",
            "Input sentences: 887  Output sentences:  716\n",
            "Data Preparation completed\n",
            "Running fairseq-preprocess\n",
            "2023-04-22 16:13:38.399185: I tensorflow/core/platform/cpu_feature_guard.cc:182] This TensorFlow binary is optimized to use available CPU instructions in performance-critical operations.\n",
            "To enable the following instructions: AVX2 AVX512F FMA, in other operations, rebuild TensorFlow with the appropriate compiler flags.\n",
            "2023-04-22 16:13:39.290333: W tensorflow/compiler/tf2tensorrt/utils/py_utils.cc:38] TF-TRT Warning: Could not find TensorRT\n",
            "2023-04-22 16:13:40 | INFO | fairseq.tasks.text_to_speech | Please install tensorboardX: pip install tensorboardX\n",
            "2023-04-22 16:13:41 | INFO | fairseq_cli.preprocess | Namespace(no_progress_bar=False, log_interval=100, log_format=None, log_file=None, aim_repo=None, aim_run_hash=None, tensorboard_logdir=None, wandb_project=None, azureml_logging=False, seed=1, cpu=False, tpu=False, bf16=False, memory_efficient_bf16=False, fp16=False, memory_efficient_fp16=False, fp16_no_flatten_grads=False, fp16_init_scale=128, fp16_scale_window=None, fp16_scale_tolerance=0.0, on_cpu_convert_precision=False, min_loss_scale=0.0001, threshold_loss_scale=None, amp=False, amp_batch_retries=2, amp_init_scale=128, amp_scale_window=None, user_dir=None, empty_cache_freq=0, all_gather_list_size=16384, model_parallel_size=1, quantization_config_path=None, profile=False, reset_logging=False, suppress_crashes=False, use_plasma_view=False, plasma_path='/tmp/plasma', criterion='cross_entropy', tokenizer=None, bpe=None, optimizer=None, lr_scheduler='fixed', scoring='bleu', task='translation', source_lang='fr', target_lang='en', trainpref='fr-en/tokenized_fr-en/train', validpref='fr-en/tokenized_fr-en/valid', testpref='fr-en/tokenized_fr-en/test', align_suffix=None, destdir='fr-en/preprocessed', thresholdtgt=0, thresholdsrc=0, tgtdict=None, srcdict=None, nwordstgt=-1, nwordssrc=-1, alignfile=None, dataset_impl='mmap', joined_dictionary=False, only_source=False, padding_factor=8, workers=60, dict_only=False)\n",
            "Traceback (most recent call last):\n",
            "  File \"/usr/local/bin/fairseq-preprocess\", line 8, in <module>\n",
            "    sys.exit(cli_main())\n",
            "  File \"/usr/local/lib/python3.9/dist-packages/fairseq_cli/preprocess.py\", line 389, in cli_main\n",
            "    main(args)\n",
            "  File \"/usr/local/lib/python3.9/dist-packages/fairseq_cli/preprocess.py\", line 299, in main\n",
            "    raise FileExistsError(_dict_path(args.source_lang, args.destdir))\n",
            "FileExistsError: fr-en/preprocessed/dict.fr.txt\n",
            "fairseq-preprocess completed\n"
          ]
        }
      ]
    },
    {
      "cell_type": "code",
      "source": [
        "!pip install sacremoses"
      ],
      "metadata": {
        "colab": {
          "base_uri": "https://localhost:8080/"
        },
        "id": "VgXf-MfBwSL_",
        "outputId": "5638c616-601c-46a3-fb55-3cefe65186cb"
      },
      "execution_count": 4,
      "outputs": [
        {
          "output_type": "stream",
          "name": "stdout",
          "text": [
            "Looking in indexes: https://pypi.org/simple, https://us-python.pkg.dev/colab-wheels/public/simple/\n",
            "Collecting sacremoses\n",
            "  Downloading sacremoses-0.0.53.tar.gz (880 kB)\n",
            "\u001b[2K     \u001b[90m━━━━━━━━━━━━━━━━━━━━━━━━━━━━━━━━━━━━━━\u001b[0m \u001b[32m880.6/880.6 kB\u001b[0m \u001b[31m29.7 MB/s\u001b[0m eta \u001b[36m0:00:00\u001b[0m\n",
            "\u001b[?25h  Preparing metadata (setup.py) ... \u001b[?25l\u001b[?25hdone\n",
            "Requirement already satisfied: regex in /usr/local/lib/python3.9/dist-packages (from sacremoses) (2022.10.31)\n",
            "Requirement already satisfied: six in /usr/local/lib/python3.9/dist-packages (from sacremoses) (1.16.0)\n",
            "Requirement already satisfied: click in /usr/local/lib/python3.9/dist-packages (from sacremoses) (8.1.3)\n",
            "Requirement already satisfied: joblib in /usr/local/lib/python3.9/dist-packages (from sacremoses) (1.2.0)\n",
            "Requirement already satisfied: tqdm in /usr/local/lib/python3.9/dist-packages (from sacremoses) (4.65.0)\n",
            "Building wheels for collected packages: sacremoses\n",
            "  Building wheel for sacremoses (setup.py) ... \u001b[?25l\u001b[?25hdone\n",
            "  Created wheel for sacremoses: filename=sacremoses-0.0.53-py3-none-any.whl size=895259 sha256=315ebb9db5bdec27ae7c5f4469de1d29a3a746aa8ec4c0ab0e59a36ea6d84e34\n",
            "  Stored in directory: /root/.cache/pip/wheels/12/1c/3d/46cf06718d63a32ff798a89594b61e7f345ab6b36d909ce033\n",
            "Successfully built sacremoses\n",
            "Installing collected packages: sacremoses\n",
            "Successfully installed sacremoses-0.0.53\n"
          ]
        }
      ]
    },
    {
      "cell_type": "code",
      "source": [
        "!bash NMT-fairseq/part-1_transformer.sh\n"
      ],
      "metadata": {
        "id": "C6e1GLL2aW6o"
      },
      "execution_count": null,
      "outputs": []
    },
    {
      "cell_type": "code",
      "source": [],
      "metadata": {
        "id": "qMnB2ub2svzx"
      },
      "execution_count": null,
      "outputs": []
    },
    {
      "cell_type": "code",
      "source": [
        "!pip install torch==1.12.1+cu113 torchvision==0.13.1+cu113 torchaudio==0.12.1 --extra-index-url https://download.pytorch.org/whl/cu113"
      ],
      "metadata": {
        "id": "iNpytPql5tEJ"
      },
      "execution_count": null,
      "outputs": []
    },
    {
      "cell_type": "code",
      "source": [
        "!pip install fairseq==0.12.2"
      ],
      "metadata": {
        "colab": {
          "base_uri": "https://localhost:8080/"
        },
        "id": "pnySzWXA5wek",
        "outputId": "709f707e-6dff-4146-827c-c40a5a2b0868"
      },
      "execution_count": 17,
      "outputs": [
        {
          "output_type": "stream",
          "name": "stdout",
          "text": [
            "Looking in indexes: https://pypi.org/simple, https://us-python.pkg.dev/colab-wheels/public/simple/\n",
            "Requirement already satisfied: fairseq==0.12.2 in /usr/local/lib/python3.9/dist-packages (0.12.2)\n",
            "Requirement already satisfied: sacrebleu>=1.4.12 in /usr/local/lib/python3.9/dist-packages (from fairseq==0.12.2) (2.3.1)\n",
            "Requirement already satisfied: regex in /usr/local/lib/python3.9/dist-packages (from fairseq==0.12.2) (2022.10.31)\n",
            "Requirement already satisfied: numpy in /usr/local/lib/python3.9/dist-packages (from fairseq==0.12.2) (1.22.4)\n",
            "Requirement already satisfied: cffi in /usr/local/lib/python3.9/dist-packages (from fairseq==0.12.2) (1.15.1)\n",
            "Requirement already satisfied: torchaudio>=0.8.0 in /usr/local/lib/python3.9/dist-packages (from fairseq==0.12.2) (0.12.1+cu113)\n",
            "Requirement already satisfied: omegaconf<2.1 in /usr/local/lib/python3.9/dist-packages (from fairseq==0.12.2) (2.0.6)\n",
            "Requirement already satisfied: cython in /usr/local/lib/python3.9/dist-packages (from fairseq==0.12.2) (0.29.34)\n",
            "Requirement already satisfied: tqdm in /usr/local/lib/python3.9/dist-packages (from fairseq==0.12.2) (4.65.0)\n",
            "Requirement already satisfied: bitarray in /usr/local/lib/python3.9/dist-packages (from fairseq==0.12.2) (2.7.3)\n",
            "Requirement already satisfied: torch in /usr/local/lib/python3.9/dist-packages (from fairseq==0.12.2) (1.12.1+cu113)\n",
            "Requirement already satisfied: hydra-core<1.1,>=1.0.7 in /usr/local/lib/python3.9/dist-packages (from fairseq==0.12.2) (1.0.7)\n",
            "Requirement already satisfied: antlr4-python3-runtime==4.8 in /usr/local/lib/python3.9/dist-packages (from hydra-core<1.1,>=1.0.7->fairseq==0.12.2) (4.8)\n",
            "Requirement already satisfied: PyYAML>=5.1.* in /usr/local/lib/python3.9/dist-packages (from omegaconf<2.1->fairseq==0.12.2) (6.0)\n",
            "Requirement already satisfied: typing-extensions in /usr/local/lib/python3.9/dist-packages (from omegaconf<2.1->fairseq==0.12.2) (4.5.0)\n",
            "Requirement already satisfied: colorama in /usr/local/lib/python3.9/dist-packages (from sacrebleu>=1.4.12->fairseq==0.12.2) (0.4.6)\n",
            "Requirement already satisfied: portalocker in /usr/local/lib/python3.9/dist-packages (from sacrebleu>=1.4.12->fairseq==0.12.2) (2.7.0)\n",
            "Requirement already satisfied: lxml in /usr/local/lib/python3.9/dist-packages (from sacrebleu>=1.4.12->fairseq==0.12.2) (4.9.2)\n",
            "Requirement already satisfied: tabulate>=0.8.9 in /usr/local/lib/python3.9/dist-packages (from sacrebleu>=1.4.12->fairseq==0.12.2) (0.8.10)\n",
            "Requirement already satisfied: pycparser in /usr/local/lib/python3.9/dist-packages (from cffi->fairseq==0.12.2) (2.21)\n"
          ]
        }
      ]
    },
    {
      "cell_type": "code",
      "source": [
        "!fairseq-generate \\\n",
        "    fr-en/preprocessed \\\n",
        "    --path checkpoints/transfomer/checkpoint_best.pt \\\n",
        "    --scoring sacrebleu \\\n",
        "    --beam 5 --remove-bpe"
      ],
      "metadata": {
        "id": "nFu7TinciJiA"
      },
      "execution_count": null,
      "outputs": []
    },
    {
      "cell_type": "code",
      "source": [
        "!tar cvf transformer_checkpoint.tar checkpoints/transfomer "
      ],
      "metadata": {
        "id": "hNo9fSBCUk5W",
        "colab": {
          "base_uri": "https://localhost:8080/"
        },
        "outputId": "10e7c3fa-b6f5-4cbc-b6e9-4902cd1be145"
      },
      "execution_count": 12,
      "outputs": [
        {
          "output_type": "stream",
          "name": "stdout",
          "text": [
            "checkpoints/transfomer/\n",
            "checkpoints/transfomer/checkpoint10.pt\n",
            "checkpoints/transfomer/checkpoint_best.pt\n",
            "checkpoints/transfomer/checkpoint_last.pt\n",
            "checkpoints/transfomer/checkpoint9.pt\n",
            "checkpoints/transfomer/.ipynb_checkpoints/\n"
          ]
        }
      ]
    },
    {
      "cell_type": "code",
      "source": [
        "!cp transformer_checkpoint.tar NMT_fairseq"
      ],
      "metadata": {
        "id": "LHd-etku4RNu"
      },
      "execution_count": 13,
      "outputs": []
    },
    {
      "cell_type": "code",
      "source": [],
      "metadata": {
        "id": "EySvMGek4iVB"
      },
      "execution_count": null,
      "outputs": []
    },
    {
      "cell_type": "code",
      "source": [
        "from google.colab import drive\n",
        "drive.mount('/content/drive')"
      ],
      "metadata": {
        "colab": {
          "base_uri": "https://localhost:8080/"
        },
        "id": "F1UCjXNG4qvz",
        "outputId": "4855acfc-809a-4f6b-8c56-05f3693d1aef"
      },
      "execution_count": 14,
      "outputs": [
        {
          "output_type": "stream",
          "name": "stdout",
          "text": [
            "Mounted at /content/drive\n"
          ]
        }
      ]
    },
    {
      "cell_type": "code",
      "source": [
        "!mv transformer_checkpoint.tar /content/drive/MyDrive"
      ],
      "metadata": {
        "id": "z9wuf4VF4riF"
      },
      "execution_count": 15,
      "outputs": []
    },
    {
      "cell_type": "code",
      "source": [],
      "metadata": {
        "id": "bpnTlnt85Cto"
      },
      "execution_count": null,
      "outputs": []
    }
  ]
}