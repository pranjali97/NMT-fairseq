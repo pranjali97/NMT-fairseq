{
 "cells": [
  {
   "cell_type": "code",
   "execution_count": 9,
   "id": "a5cac1fb-90df-406f-b86f-23c7985e9953",
   "metadata": {},
   "outputs": [
    {
     "name": "stdout",
     "output_type": "stream",
     "text": [
      "clean-corpus.perl: processing fr-en/tokenized_fr-en/bpe.train.fr & .en to fr-en/tokenized_fr-en/train, cutoff 1-250, ratio 1.5\n",
      ".....\n",
      "Input sentences: 50689  Output sentences:  50506\n",
      "clean-corpus.perl: processing fr-en/tokenized_fr-en/bpe.dev.fr & .en to fr-en/tokenized_fr-en/valid, cutoff 1-250, ratio 1.5\n",
      "\n",
      "Input sentences: 887  Output sentences:  716\n"
     ]
    }
   ],
   "source": [
    "# prepare data en-fr\n",
    "\n",
    "!bash prepare_data.sh"
   ]
  },
  {
   "cell_type": "code",
   "execution_count": 11,
   "id": "c818842f-adea-4871-8860-5c18a82a9f27",
   "metadata": {},
   "outputs": [
    {
     "name": "stdout",
     "output_type": "stream",
     "text": [
      "Running Fairseq-train\n",
      "mkdir: cannot create directory ‘checkpoints/fconv’: File exists\n",
      "2023-04-20 21:23:33 | INFO | fairseq.tasks.text_to_speech | Please install tensorboardX: pip install tensorboardX\n",
      "2023-04-20 21:23:35 | INFO | fairseq_cli.train | {'_name': None, 'common': {'_name': None, 'no_progress_bar': False, 'log_interval': 100, 'log_format': None, 'log_file': None, 'aim_repo': None, 'aim_run_hash': None, 'tensorboard_logdir': None, 'wandb_project': None, 'azureml_logging': False, 'seed': 1, 'cpu': False, 'tpu': False, 'bf16': False, 'memory_efficient_bf16': False, 'fp16': False, 'memory_efficient_fp16': False, 'fp16_no_flatten_grads': False, 'fp16_init_scale': 128, 'fp16_scale_window': None, 'fp16_scale_tolerance': 0.0, 'on_cpu_convert_precision': False, 'min_loss_scale': 0.0001, 'threshold_loss_scale': None, 'amp': False, 'amp_batch_retries': 2, 'amp_init_scale': 128, 'amp_scale_window': None, 'user_dir': None, 'empty_cache_freq': 0, 'all_gather_list_size': 16384, 'model_parallel_size': 1, 'quantization_config_path': None, 'profile': False, 'reset_logging': False, 'suppress_crashes': False, 'use_plasma_view': False, 'plasma_path': '/tmp/plasma'}, 'common_eval': {'_name': None, 'path': None, 'post_process': None, 'quiet': False, 'model_overrides': '{}', 'results_path': None}, 'distributed_training': {'_name': None, 'distributed_world_size': 1, 'distributed_num_procs': 0, 'distributed_rank': 0, 'distributed_backend': 'nccl', 'distributed_init_method': None, 'distributed_port': -1, 'device_id': 0, 'distributed_no_spawn': False, 'ddp_backend': 'pytorch_ddp', 'ddp_comm_hook': 'none', 'bucket_cap_mb': 25, 'fix_batches_to_gpus': False, 'find_unused_parameters': False, 'gradient_as_bucket_view': False, 'fast_stat_sync': False, 'heartbeat_timeout': -1, 'broadcast_buffers': False, 'slowmo_momentum': None, 'slowmo_base_algorithm': 'localsgd', 'localsgd_frequency': 3, 'nprocs_per_node': 1, 'pipeline_model_parallel': False, 'pipeline_balance': None, 'pipeline_devices': None, 'pipeline_chunks': 0, 'pipeline_encoder_balance': None, 'pipeline_encoder_devices': None, 'pipeline_decoder_balance': None, 'pipeline_decoder_devices': None, 'pipeline_checkpoint': 'never', 'zero_sharding': 'none', 'fp16': False, 'memory_efficient_fp16': False, 'tpu': False, 'no_reshard_after_forward': False, 'fp32_reduce_scatter': False, 'cpu_offload': False, 'use_sharded_state': False, 'not_fsdp_flatten_parameters': False}, 'dataset': {'_name': None, 'num_workers': 1, 'skip_invalid_size_inputs_valid_test': False, 'max_tokens': 3000, 'batch_size': None, 'required_batch_size_multiple': 8, 'required_seq_len_multiple': 1, 'dataset_impl': None, 'data_buffer_size': 10, 'train_subset': 'train', 'valid_subset': 'valid', 'combine_valid_subsets': None, 'ignore_unused_valid_subsets': False, 'validate_interval': 1, 'validate_interval_updates': 0, 'validate_after_updates': 0, 'fixed_validation_seed': None, 'disable_validation': False, 'max_tokens_valid': 3000, 'batch_size_valid': None, 'max_valid_steps': None, 'curriculum': 0, 'gen_subset': 'test', 'num_shards': 1, 'shard_id': 0, 'grouped_shuffling': False, 'update_epoch_batch_itr': False, 'update_ordered_indices_seed': False}, 'optimization': {'_name': None, 'max_epoch': 0, 'max_update': 0, 'stop_time_hours': 0.0, 'clip_norm': 0.1, 'sentence_avg': False, 'update_freq': [1], 'lr': [0.5], 'stop_min_lr': -1.0, 'use_bmuf': False, 'skip_remainder_batch': False}, 'checkpoint': {'_name': None, 'save_dir': 'checkpoints/fconv', 'restore_file': 'checkpoint_last.pt', 'continue_once': None, 'finetune_from_model': None, 'reset_dataloader': False, 'reset_lr_scheduler': False, 'reset_meters': False, 'reset_optimizer': False, 'optimizer_overrides': '{}', 'save_interval': 1, 'save_interval_updates': 0, 'keep_interval_updates': -1, 'keep_interval_updates_pattern': -1, 'keep_last_epochs': -1, 'keep_best_checkpoints': -1, 'no_save': False, 'no_epoch_checkpoints': False, 'no_last_checkpoints': False, 'no_save_optimizer_state': False, 'best_checkpoint_metric': 'loss', 'maximize_best_checkpoint_metric': False, 'patience': -1, 'checkpoint_suffix': '', 'checkpoint_shard_count': 1, 'load_checkpoint_on_all_dp_ranks': False, 'write_checkpoints_asynchronously': False, 'model_parallel_size': 1}, 'bmuf': {'_name': None, 'block_lr': 1.0, 'block_momentum': 0.875, 'global_sync_iter': 50, 'warmup_iterations': 500, 'use_nbm': False, 'average_sync': False, 'distributed_world_size': 1}, 'generation': {'_name': None, 'beam': 5, 'nbest': 1, 'max_len_a': 0.0, 'max_len_b': 200, 'min_len': 1, 'match_source_len': False, 'unnormalized': False, 'no_early_stop': False, 'no_beamable_mm': False, 'lenpen': 1.0, 'unkpen': 0.0, 'replace_unk': None, 'sacrebleu': False, 'score_reference': False, 'prefix_size': 0, 'no_repeat_ngram_size': 0, 'sampling': False, 'sampling_topk': -1, 'sampling_topp': -1.0, 'constraints': None, 'temperature': 1.0, 'diverse_beam_groups': -1, 'diverse_beam_strength': 0.5, 'diversity_rate': -1.0, 'print_alignment': None, 'print_step': False, 'lm_path': None, 'lm_weight': 0.0, 'iter_decode_eos_penalty': 0.0, 'iter_decode_max_iter': 10, 'iter_decode_force_max_iter': False, 'iter_decode_with_beam': 1, 'iter_decode_with_external_reranker': False, 'retain_iter_history': False, 'retain_dropout': False, 'retain_dropout_modules': None, 'decoding_format': None, 'no_seed_provided': False, 'eos_token': None}, 'eval_lm': {'_name': None, 'output_word_probs': False, 'output_word_stats': False, 'context_window': 0, 'softmax_batch': 9223372036854775807}, 'interactive': {'_name': None, 'buffer_size': 0, 'input': '-'}, 'model': Namespace(no_progress_bar=False, log_interval=100, log_format=None, log_file=None, aim_repo=None, aim_run_hash=None, tensorboard_logdir=None, wandb_project=None, azureml_logging=False, seed=1, cpu=False, tpu=False, bf16=False, memory_efficient_bf16=False, fp16=False, memory_efficient_fp16=False, fp16_no_flatten_grads=False, fp16_init_scale=128, fp16_scale_window=None, fp16_scale_tolerance=0.0, on_cpu_convert_precision=False, min_loss_scale=0.0001, threshold_loss_scale=None, amp=False, amp_batch_retries=2, amp_init_scale=128, amp_scale_window=None, user_dir=None, empty_cache_freq=0, all_gather_list_size=16384, model_parallel_size=1, quantization_config_path=None, profile=False, reset_logging=False, suppress_crashes=False, use_plasma_view=False, plasma_path='/tmp/plasma', criterion='label_smoothed_cross_entropy', tokenizer=None, bpe=None, optimizer='nag', lr_scheduler='fixed', scoring='bleu', task='translation', num_workers=1, skip_invalid_size_inputs_valid_test=False, max_tokens=3000, batch_size=None, required_batch_size_multiple=8, required_seq_len_multiple=1, dataset_impl=None, data_buffer_size=10, train_subset='train', valid_subset='valid', combine_valid_subsets=None, ignore_unused_valid_subsets=False, validate_interval=1, validate_interval_updates=0, validate_after_updates=0, fixed_validation_seed=None, disable_validation=False, max_tokens_valid=3000, batch_size_valid=None, max_valid_steps=None, curriculum=0, gen_subset='test', num_shards=1, shard_id=0, grouped_shuffling=False, update_epoch_batch_itr=False, update_ordered_indices_seed=False, distributed_world_size=1, distributed_num_procs=1, distributed_rank=0, distributed_backend='nccl', distributed_init_method=None, distributed_port=-1, device_id=0, distributed_no_spawn=False, ddp_backend='pytorch_ddp', ddp_comm_hook='none', bucket_cap_mb=25, fix_batches_to_gpus=False, find_unused_parameters=False, gradient_as_bucket_view=False, fast_stat_sync=False, heartbeat_timeout=-1, broadcast_buffers=False, slowmo_momentum=None, slowmo_base_algorithm='localsgd', localsgd_frequency=3, nprocs_per_node=1, pipeline_model_parallel=False, pipeline_balance=None, pipeline_devices=None, pipeline_chunks=0, pipeline_encoder_balance=None, pipeline_encoder_devices=None, pipeline_decoder_balance=None, pipeline_decoder_devices=None, pipeline_checkpoint='never', zero_sharding='none', no_reshard_after_forward=False, fp32_reduce_scatter=False, cpu_offload=False, use_sharded_state=False, not_fsdp_flatten_parameters=False, arch='fconv_wmt_en_fr', max_epoch=0, max_update=0, stop_time_hours=0, clip_norm=0.1, sentence_avg=False, update_freq=[1], lr=[0.5], stop_min_lr=-1.0, use_bmuf=False, skip_remainder_batch=False, save_dir='checkpoints/fconv', restore_file='checkpoint_last.pt', continue_once=None, finetune_from_model=None, reset_dataloader=False, reset_lr_scheduler=False, reset_meters=False, reset_optimizer=False, optimizer_overrides='{}', save_interval=1, save_interval_updates=0, keep_interval_updates=-1, keep_interval_updates_pattern=-1, keep_last_epochs=-1, keep_best_checkpoints=-1, no_save=False, no_epoch_checkpoints=False, no_last_checkpoints=False, no_save_optimizer_state=False, best_checkpoint_metric='loss', maximize_best_checkpoint_metric=False, patience=-1, checkpoint_suffix='', checkpoint_shard_count=1, load_checkpoint_on_all_dp_ranks=False, write_checkpoints_asynchronously=False, store_ema=False, ema_decay=0.9999, ema_start_update=0, ema_seed_model=None, ema_update_freq=1, ema_fp32=False, data='fr-en/preprocessed', source_lang=None, target_lang=None, load_alignments=False, left_pad_source=True, left_pad_target=False, max_source_positions=1024, max_target_positions=1024, upsample_primary=-1, truncate_source=False, num_batch_buckets=0, eval_bleu=False, eval_bleu_args='{}', eval_bleu_detok='space', eval_bleu_detok_args='{}', eval_tokenized_bleu=False, eval_bleu_remove_bpe=None, eval_bleu_print_samples=False, label_smoothing=0.1, report_accuracy=False, ignore_prefix_size=0, momentum=0.99, weight_decay=0.0, force_anneal=50, lr_shrink=0.1, warmup_updates=0, pad=1, eos=2, unk=3, dropout=0.1, no_seed_provided=False, encoder_embed_dim=768, encoder_layers='[(512, 3)] * 6 + [(768, 3)] * 4 + [(1024, 3)] * 3 + [(2048, 1)] * 1 + [(4096, 1)] * 1', decoder_embed_dim=768, decoder_layers='[(512, 3)] * 6 + [(768, 3)] * 4 + [(1024, 3)] * 3 + [(2048, 1)] * 1 + [(4096, 1)] * 1', decoder_out_embed_dim=512, encoder_embed_path=None, decoder_embed_path=None, decoder_attention='True', share_input_output_embed=False, _name='fconv_wmt_en_fr'), 'task': {'_name': 'translation', 'data': 'fr-en/preprocessed', 'source_lang': None, 'target_lang': None, 'load_alignments': False, 'left_pad_source': True, 'left_pad_target': False, 'max_source_positions': 1024, 'max_target_positions': 1024, 'upsample_primary': -1, 'truncate_source': False, 'num_batch_buckets': 0, 'train_subset': 'train', 'dataset_impl': None, 'required_seq_len_multiple': 1, 'eval_bleu': False, 'eval_bleu_args': '{}', 'eval_bleu_detok': 'space', 'eval_bleu_detok_args': '{}', 'eval_tokenized_bleu': False, 'eval_bleu_remove_bpe': None, 'eval_bleu_print_samples': False}, 'criterion': {'_name': 'label_smoothed_cross_entropy', 'label_smoothing': 0.1, 'report_accuracy': False, 'ignore_prefix_size': 0, 'sentence_avg': False}, 'optimizer': {'_name': 'nag', 'momentum': 0.99, 'weight_decay': 0.0, 'lr': [0.5]}, 'lr_scheduler': {'_name': 'fixed', 'force_anneal': 50, 'lr_shrink': 0.1, 'warmup_updates': 0, 'lr': [0.5]}, 'scoring': {'_name': 'bleu', 'pad': 1, 'eos': 2, 'unk': 3}, 'bpe': None, 'tokenizer': None, 'ema': {'_name': None, 'store_ema': False, 'ema_decay': 0.9999, 'ema_start_update': 0, 'ema_seed_model': None, 'ema_update_freq': 1, 'ema_fp32': False}}\n",
      "2023-04-20 21:23:35 | INFO | fairseq.tasks.translation | [fr] dictionary: 6696 types\n",
      "2023-04-20 21:23:35 | INFO | fairseq.tasks.translation | [en] dictionary: 6024 types\n",
      "2023-04-20 21:23:40 | INFO | fairseq_cli.train | FConvModel(\n",
      "  (encoder): FConvEncoder(\n",
      "    (dropout_module): FairseqDropout()\n",
      "    (embed_tokens): Embedding(6696, 768, padding_idx=1)\n",
      "    (embed_positions): LearnedPositionalEmbedding(1024, 768, padding_idx=1)\n",
      "    (fc1): Linear(in_features=768, out_features=512, bias=True)\n",
      "    (projections): ModuleList(\n",
      "      (0-5): 6 x None\n",
      "      (6): Linear(in_features=512, out_features=768, bias=True)\n",
      "      (7-9): 3 x None\n",
      "      (10): Linear(in_features=768, out_features=1024, bias=True)\n",
      "      (11-12): 2 x None\n",
      "      (13): Linear(in_features=1024, out_features=2048, bias=True)\n",
      "      (14): Linear(in_features=2048, out_features=4096, bias=True)\n",
      "    )\n",
      "    (convolutions): ModuleList(\n",
      "      (0-5): 6 x ConvTBC(512, 1024, kernel_size=(3,), padding=(1,))\n",
      "      (6): ConvTBC(512, 1536, kernel_size=(3,), padding=(1,))\n",
      "      (7-9): 3 x ConvTBC(768, 1536, kernel_size=(3,), padding=(1,))\n",
      "      (10): ConvTBC(768, 2048, kernel_size=(3,), padding=(1,))\n",
      "      (11-12): 2 x ConvTBC(1024, 2048, kernel_size=(3,), padding=(1,))\n",
      "      (13): ConvTBC(1024, 4096, kernel_size=(1,), padding=(0,))\n",
      "      (14): ConvTBC(2048, 8192, kernel_size=(1,), padding=(0,))\n",
      "    )\n",
      "    (fc2): Linear(in_features=4096, out_features=768, bias=True)\n",
      "  )\n",
      "  (decoder): FConvDecoder(\n",
      "    (dropout_module): FairseqDropout()\n",
      "    (embed_tokens): Embedding(6024, 768, padding_idx=1)\n",
      "    (embed_positions): LearnedPositionalEmbedding(1024, 768, padding_idx=1)\n",
      "    (fc1): Linear(in_features=768, out_features=512, bias=True)\n",
      "    (projections): ModuleList(\n",
      "      (0-5): 6 x None\n",
      "      (6): Linear(in_features=512, out_features=768, bias=True)\n",
      "      (7-9): 3 x None\n",
      "      (10): Linear(in_features=768, out_features=1024, bias=True)\n",
      "      (11-12): 2 x None\n",
      "      (13): Linear(in_features=1024, out_features=2048, bias=True)\n",
      "      (14): Linear(in_features=2048, out_features=4096, bias=True)\n",
      "    )\n",
      "    (convolutions): ModuleList(\n",
      "      (0-5): 6 x LinearizedConvolution(512, 1024, kernel_size=(3,), padding=(2,))\n",
      "      (6): LinearizedConvolution(512, 1536, kernel_size=(3,), padding=(2,))\n",
      "      (7-9): 3 x LinearizedConvolution(768, 1536, kernel_size=(3,), padding=(2,))\n",
      "      (10): LinearizedConvolution(768, 2048, kernel_size=(3,), padding=(2,))\n",
      "      (11-12): 2 x LinearizedConvolution(1024, 2048, kernel_size=(3,), padding=(2,))\n",
      "      (13): LinearizedConvolution(1024, 4096, kernel_size=(1,), padding=(0,))\n",
      "      (14): LinearizedConvolution(2048, 8192, kernel_size=(1,), padding=(0,))\n",
      "    )\n",
      "    (attention): ModuleList(\n",
      "      (0-5): 6 x AttentionLayer(\n",
      "        (in_projection): Linear(in_features=512, out_features=768, bias=True)\n",
      "        (out_projection): Linear(in_features=768, out_features=512, bias=True)\n",
      "      )\n",
      "      (6-9): 4 x AttentionLayer(\n",
      "        (in_projection): Linear(in_features=768, out_features=768, bias=True)\n",
      "        (out_projection): Linear(in_features=768, out_features=768, bias=True)\n",
      "      )\n",
      "      (10-12): 3 x AttentionLayer(\n",
      "        (in_projection): Linear(in_features=1024, out_features=768, bias=True)\n",
      "        (out_projection): Linear(in_features=768, out_features=1024, bias=True)\n",
      "      )\n",
      "      (13): AttentionLayer(\n",
      "        (in_projection): Linear(in_features=2048, out_features=768, bias=True)\n",
      "        (out_projection): Linear(in_features=768, out_features=2048, bias=True)\n",
      "      )\n",
      "      (14): AttentionLayer(\n",
      "        (in_projection): Linear(in_features=4096, out_features=768, bias=True)\n",
      "        (out_projection): Linear(in_features=768, out_features=4096, bias=True)\n",
      "      )\n",
      "    )\n",
      "    (fc2): Linear(in_features=4096, out_features=512, bias=True)\n",
      "    (fc3): Linear(in_features=512, out_features=6024, bias=True)\n",
      "  )\n",
      ")\n",
      "2023-04-20 21:23:40 | INFO | fairseq_cli.train | task: TranslationTask\n",
      "2023-04-20 21:23:40 | INFO | fairseq_cli.train | model: FConvModel\n",
      "2023-04-20 21:23:40 | INFO | fairseq_cli.train | criterion: LabelSmoothedCrossEntropyCriterion\n",
      "2023-04-20 21:23:40 | INFO | fairseq_cli.train | num. shared model params: 188,976,912 (num. trained: 188,976,912)\n",
      "2023-04-20 21:23:40 | INFO | fairseq_cli.train | num. expert model params: 0 (num. trained: 0)\n",
      "2023-04-20 21:23:40 | INFO | fairseq.data.data_utils | loaded 716 examples from: fr-en/preprocessed/valid.fr-en.fr\n",
      "2023-04-20 21:23:40 | INFO | fairseq.data.data_utils | loaded 716 examples from: fr-en/preprocessed/valid.fr-en.en\n",
      "2023-04-20 21:23:40 | INFO | fairseq.tasks.translation | fr-en/preprocessed valid fr-en 716 examples\n",
      "2023-04-20 21:23:40 | INFO | fairseq_cli.train | training on 1 devices (GPUs/TPUs)\n",
      "2023-04-20 21:23:40 | INFO | fairseq_cli.train | max tokens per device = 3000 and max sentences per device = None\n",
      "2023-04-20 21:23:40 | INFO | fairseq.trainer | Preparing to load checkpoint checkpoints/fconv/checkpoint_last.pt\n",
      "2023-04-20 21:23:40 | INFO | fairseq.trainer | No existing checkpoint found checkpoints/fconv/checkpoint_last.pt\n",
      "2023-04-20 21:23:40 | INFO | fairseq.trainer | loading train data for epoch 1\n",
      "2023-04-20 21:23:40 | INFO | fairseq.data.data_utils | loaded 50,506 examples from: fr-en/preprocessed/train.fr-en.fr\n",
      "2023-04-20 21:23:40 | INFO | fairseq.data.data_utils | loaded 50,506 examples from: fr-en/preprocessed/train.fr-en.en\n",
      "2023-04-20 21:23:40 | INFO | fairseq.tasks.translation | fr-en/preprocessed train fr-en 50506 examples\n",
      "2023-04-20 21:23:40 | INFO | fairseq.data.iterators | grouped total_num_itrs = 460\n",
      "epoch 001:   0%|                                        | 0/460 [00:00<?, ?it/s]2023-04-20 21:23:40 | INFO | fairseq.trainer | begin training epoch 1\n",
      "2023-04-20 21:23:40 | INFO | fairseq_cli.train | Start iterating over samples\n",
      "/opt/conda/lib/python3.10/site-packages/torch/nn/modules/module.py:1319: UserWarning: Using non-full backward hooks on a Module that does not take as input a single Tensor or a tuple of Tensors is deprecated and will be removed in future versions. This hook will be missing some of the grad_input. Please use register_full_backward_hook to get the documented behavior.\n",
      "  warnings.warn(\"Using non-full backward hooks on a Module that does not take as input a \"\n",
      "epoch 001:   1%|▏                             | 3/460 [01:28<3:38:50, 28.73s/it]^C\n"
     ]
    }
   ],
   "source": [
    "!bash main.sh"
   ]
  },
  {
   "cell_type": "code",
   "execution_count": 5,
   "id": "345527d3-4a57-417d-8ab2-9cd718290545",
   "metadata": {},
   "outputs": [],
   "source": [
    "# "
   ]
  },
  {
   "cell_type": "code",
   "execution_count": null,
   "id": "a4db9f78-3247-4dd3-906c-1728da46ace5",
   "metadata": {},
   "outputs": [],
   "source": []
  }
 ],
 "metadata": {
  "kernelspec": {
   "display_name": "Python 3 (ipykernel)",
   "language": "python",
   "name": "python3"
  },
  "language_info": {
   "codemirror_mode": {
    "name": "ipython",
    "version": 3
   },
   "file_extension": ".py",
   "mimetype": "text/x-python",
   "name": "python",
   "nbconvert_exporter": "python",
   "pygments_lexer": "ipython3",
   "version": "3.10.6"
  }
 },
 "nbformat": 4,
 "nbformat_minor": 5
}
